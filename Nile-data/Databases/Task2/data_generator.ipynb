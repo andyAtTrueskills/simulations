{
 "cells": [
  {
   "cell_type": "code",
   "execution_count": 18,
   "metadata": {
    "collapsed": true
   },
   "outputs": [],
   "source": [
    "import sqlite3 as lite\n",
    "import sys\n",
    "import random"
   ]
  },
  {
   "cell_type": "code",
   "execution_count": 103,
   "metadata": {
    "collapsed": false
   },
   "outputs": [],
   "source": [
    "example_probs = {\n",
    "    \"control\" : {\n",
    "        \"p_buy\" : 0.4,\n",
    "        \"mu\" : 50.0,\n",
    "        \"sig\": 5.0\n",
    "    },\n",
    "    \"treatment\" : {\n",
    "        \"p_buy\" : 0.45,\n",
    "        \"mu\" : 35.0,\n",
    "        \"sig\": 2.0\n",
    "    }\n",
    "}"
   ]
  },
  {
   "cell_type": "code",
   "execution_count": 73,
   "metadata": {
    "collapsed": true
   },
   "outputs": [],
   "source": [
    "def create_data(db_name, N, probs):\n",
    "    create_schema(db_name)\n",
    "    conn = lite.connect(db_name)\n",
    "    fake_data_creator = FakeDataCreator(conn, probs)\n",
    "    populate_data(db_name, N, fake_data_creator)"
   ]
  },
  {
   "cell_type": "code",
   "execution_count": 87,
   "metadata": {
    "collapsed": true
   },
   "outputs": [],
   "source": [
    "def create_schema(db_name):\n",
    "    conn = lite.connect(db_name)\n",
    "    cur = conn.cursor()\n",
    "    cur.execute(\"drop table if exists Purchase\")\n",
    "    cur.execute(\"drop table if exists ExperimentVisitor\")\n",
    "    cur.execute(\"CREATE TABLE Purchase(amount REAL)\")\n",
    "    cur.execute(\"CREATE TABLE ExperimentVisitor(purchase_id INTEGER, experiment_group TEXT, FOREIGN KEY(purchase_id) REFERENCES Purchase(id))\")"
   ]
  },
  {
   "cell_type": "code",
   "execution_count": 88,
   "metadata": {
    "collapsed": true
   },
   "outputs": [],
   "source": [
    "def populate_data(db_name, N, fake_data_creator):     \n",
    "    for _ in xrange(N):\n",
    "        fake_data_creator.create()"
   ]
  },
  {
   "cell_type": "code",
   "execution_count": 99,
   "metadata": {
    "collapsed": true
   },
   "outputs": [],
   "source": [
    "class FakeDataCreator(object):\n",
    "    def __init__(self, conn, probs):\n",
    "        self.conn = conn\n",
    "        self.cur  = conn.cursor()\n",
    "        self.probs = probs\n",
    "        pass\n",
    "    \n",
    "    def create(self):\n",
    "        probs = self.probs\n",
    "        group = \"control\" if random.random() < 0.5 else 'treatment'\n",
    "        p_buy = probs[group]['p_buy']\n",
    "        if random.random() < p_buy:\n",
    "            amount = max(1.0, random.gauss(probs[group]['mu'], probs[group]['sig']))\n",
    "            self.cur.execute(\"insert into Purchase values (?)\", (amount,))\n",
    "            self.cur.execute(\"insert into ExperimentVisitor values (?, ?)\", (self.cur.lastrowid, group))\n",
    "            self.conn.commit()\n",
    "        else:\n",
    "            amount = 0.0\n",
    "            self.cur.execute(\"insert into ExperimentVisitor values (?, ?)\", (None, group))\n",
    "            self.conn.commit()"
   ]
  }
 ],
 "metadata": {
  "kernelspec": {
   "display_name": "Python 2",
   "language": "python",
   "name": "python2"
  },
  "language_info": {
   "codemirror_mode": {
    "name": "ipython",
    "version": 2
   },
   "file_extension": ".py",
   "mimetype": "text/x-python",
   "name": "python",
   "nbconvert_exporter": "python",
   "pygments_lexer": "ipython2",
   "version": "2.7.10"
  }
 },
 "nbformat": 4,
 "nbformat_minor": 0
}
