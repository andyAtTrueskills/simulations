{
 "cells": [
  {
   "cell_type": "code",
   "execution_count": 7,
   "metadata": {
    "collapsed": false
   },
   "outputs": [],
   "source": [
    "from random import random\n",
    "def generate_random_flow(alpha, beta, gamma):\n",
    "    flow = ['search']\n",
    "    while True:\n",
    "        r1 = random()\n",
    "        r2 = random()\n",
    "        if r1 > alpha:\n",
    "            if r2 < gamma:\n",
    "                flow.append('search')\n",
    "            else:\n",
    "                flow.append('leave')\n",
    "                return flow\n",
    "        else:\n",
    "            if r2 < beta:\n",
    "                flow.append('purchase')\n",
    "                return flow\n",
    "            else:\n",
    "                flow.append('leave')\n",
    "                return flow"
   ]
  },
  {
   "cell_type": "code",
   "execution_count": 18,
   "metadata": {
    "collapsed": false
   },
   "outputs": [
    {
     "data": {
      "text/plain": [
       "['search',\n",
       " 'search',\n",
       " 'search',\n",
       " 'search',\n",
       " 'search',\n",
       " 'search',\n",
       " 'search',\n",
       " 'search',\n",
       " 'search',\n",
       " 'leave']"
      ]
     },
     "execution_count": 18,
     "metadata": {},
     "output_type": "execute_result"
    }
   ],
   "source": [
    "generate_random_flow(0.1, 0.5, 0.95)"
   ]
  },
  {
   "cell_type": "code",
   "execution_count": 23,
   "metadata": {
    "collapsed": false
   },
   "outputs": [],
   "source": [
    "def generate_random_flows(alpha, beta, gamma, N):\n",
    "    flows = []\n",
    "    for i in range(N):\n",
    "        flows.append(generate_random_flow(alpha, beta, gamma))\n",
    "    return flows"
   ]
  },
  {
   "cell_type": "code",
   "execution_count": 24,
   "metadata": {
    "collapsed": true
   },
   "outputs": [],
   "source": [
    "flows = generate_random_flows(0.7, 0.8, 0.2, 1000)"
   ]
  },
  {
   "cell_type": "code",
   "execution_count": 26,
   "metadata": {
    "collapsed": false
   },
   "outputs": [
    {
     "data": {
      "text/plain": [
       "[['search', 'purchase'],\n",
       " ['search', 'leave'],\n",
       " ['search', 'purchase'],\n",
       " ['search', 'purchase'],\n",
       " ['search', 'leave'],\n",
       " ['search', 'search', 'leave'],\n",
       " ['search', 'purchase'],\n",
       " ['search', 'leave'],\n",
       " ['search', 'search', 'leave'],\n",
       " ['search', 'purchase']]"
      ]
     },
     "execution_count": 26,
     "metadata": {},
     "output_type": "execute_result"
    }
   ],
   "source": [
    "flows[0:10]"
   ]
  }
 ],
 "metadata": {
  "kernelspec": {
   "display_name": "Python 2",
   "language": "python",
   "name": "python2"
  },
  "language_info": {
   "codemirror_mode": {
    "name": "ipython",
    "version": 2
   },
   "file_extension": ".py",
   "mimetype": "text/x-python",
   "name": "python",
   "nbconvert_exporter": "python",
   "pygments_lexer": "ipython2",
   "version": "2.7.10"
  }
 },
 "nbformat": 4,
 "nbformat_minor": 0
}
