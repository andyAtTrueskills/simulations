{
 "cells": [
  {
   "cell_type": "code",
   "execution_count": 75,
   "metadata": {
    "collapsed": true
   },
   "outputs": [],
   "source": [
    "import random\n",
    "import datetime\n",
    "import math"
   ]
  },
  {
   "cell_type": "code",
   "execution_count": 72,
   "metadata": {
    "collapsed": false
   },
   "outputs": [],
   "source": [
    "example_page_transition_probabilities = {\n",
    "    'page_names' : ['home','buy', 'thanks'],\n",
    "    'matrix' : [\n",
    "        [0.000, 0.265, 0.700],\n",
    "        [0.400, 0.000, 0.432],\n",
    "        [0.910, 0.000, 0.000]\n",
    "    ],\n",
    "    'duration_means' : [21.2, 59.3, 154.3],\n",
    "    'duration_stds'  : [5.3, 20.2, 51.2]\n",
    "}"
   ]
  },
  {
   "cell_type": "code",
   "execution_count": 51,
   "metadata": {
    "collapsed": true
   },
   "outputs": [],
   "source": [
    "def test_transition_probs(transition_probs):\n",
    "    page_names = transition_probs['page_names']\n",
    "    matrix = transition_probs['matrix']\n",
    "    duration_means = transition_probs['duration_means']\n",
    "    duration_stds = transition_probs['duration_stds']\n",
    "    assert len(page_names) == len(matrix)\n",
    "    assert len(matrix) == len(matrix[0])\n",
    "    assert len(duration_stds) == len(duration_stds)\n",
    "    for row in matrix:\n",
    "        assert(sum(row) <= 1.0)"
   ]
  },
  {
   "cell_type": "code",
   "execution_count": 67,
   "metadata": {
    "collapsed": true
   },
   "outputs": [],
   "source": [
    "def generate_random_datetime(start_date, end_date):\n",
    "        date_range = [start_date + datetime.timedelta(days=i) for i in range((end_date-start_date).days)]\n",
    "        date = random.choice(date_range)\n",
    "        hours = int(math.floor(random.random() * 24))\n",
    "        mins = int(math.floor(random.random() * 60))\n",
    "        secs = int(math.floor(random.random() * 60))\n",
    "        t = datetime.time(hours, mins, secs)\n",
    "        random_datetime = datetime.datetime.combine(date, t)\n",
    "        return random_datetime"
   ]
  },
  {
   "cell_type": "code",
   "execution_count": 68,
   "metadata": {
    "collapsed": true
   },
   "outputs": [],
   "source": [
    "class RandomSessionGenerator(object):\n",
    "    \n",
    "    def __init__(self, start_page_name, page_transition_probabilities, start_datetime):\n",
    "        self.name = start_page_name\n",
    "        self.at = start_datetime\n",
    "        self._page_names = page_transition_probabilities['page_names']\n",
    "        self._duration_means = page_transition_probabilities['duration_means']\n",
    "        self._duration_stds  = page_transition_probabilities['duration_stds']\n",
    "        self._matrix = page_transition_probabilities['matrix']\n",
    "        self._ids_used = set([])\n",
    "        \n",
    "    def __iter__(self):\n",
    "        return self\n",
    "    \n",
    "    def _generate_random_id(self, lower=1000, upper=10000):\n",
    "        if len(self._ids_used) > (upper - lower) / 10:\n",
    "            return self._generate_random_id(lower=lower, upper=10*upper)\n",
    "        else:\n",
    "            while True:\n",
    "                r_id = random.randint(lower, upper)\n",
    "                if r_id not in self._ids_used:\n",
    "                    self._ids_used.add(r_id)\n",
    "                    return r_id\n",
    "                else: \n",
    "                    return _generate_random_id(lower=lower, upper=upper)\n",
    "    \n",
    "    def next(self):\n",
    "        row_num = self._page_names.index(self.name)\n",
    "        transition_probabilities = self._matrix[row_num]\n",
    "        cumulative_p = 0\n",
    "        r = random.random()\n",
    "        for i, p in enumerate(transition_probabilities):\n",
    "            cumulative_p += p\n",
    "            if r < cumulative_p:\n",
    "                self.name = self._page_names[i]\n",
    "                duration = max(random.gauss(self._duration_means[i], self._duration_stds[i]), 1.0)\n",
    "                self.at += datetime.timedelta(seconds=duration)\n",
    "                return {'name' : self.name, \n",
    "                        'at': self.at.strftime(\"%Y-%m-%dT%H:%M:%S\"),\n",
    "                       'id': self._generate_random_id()}\n",
    "        else:\n",
    "            raise StopIteration()"
   ]
  },
  {
   "cell_type": "code",
   "execution_count": 78,
   "metadata": {
    "collapsed": true
   },
   "outputs": [],
   "source": [
    "def generate_random_sessions(N, start_page_name, page_transition_probabilities, start_date, end_date, amount_generator):\n",
    "    sessions = []\n",
    "    for _ in range(N):   \n",
    "        random_start_datetime = generate_random_datetime(start_date, end_date)\n",
    "        random_session_generator = RandomSessionGenerator(start_page_name, page_transition_probabilities, random_start_datetime)\n",
    "        visits = [v for v in random_session_generator]\n",
    "        amount_spent = amount_generator(visits)\n",
    "        sessions.append({'page_visits' : visits, 'amount_spent' : amount_spent})\n",
    "    return sessions\n",
    "        \n",
    "    "
   ]
  },
  {
   "cell_type": "code",
   "execution_count": 79,
   "metadata": {
    "collapsed": true
   },
   "outputs": [],
   "source": [
    "def uniform_amount_generator(visits):\n",
    "    purchase_made = False\n",
    "    for v in visits:\n",
    "        if v['name'] == 'thanks':\n",
    "            purchase_made = True\n",
    "            break\n",
    "    if not purchase_made:\n",
    "        return 0.0\n",
    "    else:\n",
    "        return max(0.99, random.gauss(60.0, 20.0))"
   ]
  },
  {
   "cell_type": "code",
   "execution_count": 80,
   "metadata": {
    "collapsed": false
   },
   "outputs": [],
   "source": [
    "data = generate_random_sessions(10, 'home', example_page_transition_probabilities, datetime.date(2015,1,1), datetime.date(2015, 10,10), uniform_amount_generator)"
   ]
  },
  {
   "cell_type": "code",
   "execution_count": 81,
   "metadata": {
    "collapsed": false
   },
   "outputs": [
    {
     "data": {
      "text/plain": [
       "[{'amount_spent': 54.01274506934433,\n",
       "  'page_visits': [{'at': '2015-02-22T17:53:44', 'id': 2362, 'name': 'thanks'},\n",
       "   {'at': '2015-02-22T17:54:01', 'id': 5824, 'name': 'home'},\n",
       "   {'at': '2015-02-22T17:54:39', 'id': 6419, 'name': 'buy'},\n",
       "   {'at': '2015-02-22T17:54:40', 'id': 6178, 'name': 'home'},\n",
       "   {'at': '2015-02-22T17:56:02', 'id': 6450, 'name': 'buy'},\n",
       "   {'at': '2015-02-22T17:56:21', 'id': 4509, 'name': 'home'},\n",
       "   {'at': '2015-02-22T17:57:56', 'id': 5283, 'name': 'thanks'},\n",
       "   {'at': '2015-02-22T17:58:26', 'id': 7210, 'name': 'home'},\n",
       "   {'at': '2015-02-22T18:01:42', 'id': 1232, 'name': 'thanks'},\n",
       "   {'at': '2015-02-22T18:02:00', 'id': 4256, 'name': 'home'},\n",
       "   {'at': '2015-02-22T18:02:09', 'id': 1275, 'name': 'buy'},\n",
       "   {'at': '2015-02-22T18:02:26', 'id': 9977, 'name': 'home'},\n",
       "   {'at': '2015-02-22T18:04:21', 'id': 7305, 'name': 'thanks'},\n",
       "   {'at': '2015-02-22T18:04:35', 'id': 3577, 'name': 'home'},\n",
       "   {'at': '2015-02-22T18:05:10', 'id': 2363, 'name': 'buy'},\n",
       "   {'at': '2015-02-22T18:09:16', 'id': 1939, 'name': 'thanks'},\n",
       "   {'at': '2015-02-22T18:09:41', 'id': 2548, 'name': 'home'},\n",
       "   {'at': '2015-02-22T18:10:59', 'id': 5469, 'name': 'thanks'},\n",
       "   {'at': '2015-02-22T18:11:36', 'id': 2364, 'name': 'home'},\n",
       "   {'at': '2015-02-22T18:14:40', 'id': 6864, 'name': 'thanks'},\n",
       "   {'at': '2015-02-22T18:14:53', 'id': 2374, 'name': 'home'},\n",
       "   {'at': '2015-02-22T18:15:12', 'id': 5317, 'name': 'buy'}]},\n",
       " {'amount_spent': 89.16790266704923,\n",
       "  'page_visits': [{'at': '2015-07-19T13:41:35', 'id': 6748, 'name': 'thanks'},\n",
       "   {'at': '2015-07-19T13:41:59', 'id': 4138, 'name': 'home'},\n",
       "   {'at': '2015-07-19T13:44:00', 'id': 1141, 'name': 'thanks'},\n",
       "   {'at': '2015-07-19T13:44:20', 'id': 2648, 'name': 'home'},\n",
       "   {'at': '2015-07-19T13:47:34', 'id': 3781, 'name': 'thanks'},\n",
       "   {'at': '2015-07-19T13:47:56', 'id': 8547, 'name': 'home'},\n",
       "   {'at': '2015-07-19T13:50:54', 'id': 7538, 'name': 'thanks'}]},\n",
       " {'amount_spent': 0.0,\n",
       "  'page_visits': [{'at': '2015-02-28T19:08:43', 'id': 8206, 'name': 'buy'}]},\n",
       " {'amount_spent': 58.544893311751885,\n",
       "  'page_visits': [{'at': '2015-07-06T13:40:09', 'id': 2047, 'name': 'thanks'},\n",
       "   {'at': '2015-07-06T13:40:29', 'id': 6657, 'name': 'home'},\n",
       "   {'at': '2015-07-06T13:41:51', 'id': 1987, 'name': 'buy'},\n",
       "   {'at': '2015-07-06T13:44:45', 'id': 4839, 'name': 'thanks'},\n",
       "   {'at': '2015-07-06T13:45:17', 'id': 6037, 'name': 'home'},\n",
       "   {'at': '2015-07-06T13:45:42', 'id': 1710, 'name': 'thanks'},\n",
       "   {'at': '2015-07-06T13:45:57', 'id': 5298, 'name': 'home'},\n",
       "   {'at': '2015-07-06T13:46:57', 'id': 9935, 'name': 'buy'},\n",
       "   {'at': '2015-07-06T13:47:23', 'id': 1501, 'name': 'home'},\n",
       "   {'at': '2015-07-06T13:48:11', 'id': 8222, 'name': 'buy'},\n",
       "   {'at': '2015-07-06T13:51:20', 'id': 6659, 'name': 'thanks'},\n",
       "   {'at': '2015-07-06T13:51:39', 'id': 4687, 'name': 'home'},\n",
       "   {'at': '2015-07-06T13:54:49', 'id': 2136, 'name': 'thanks'},\n",
       "   {'at': '2015-07-06T13:55:12', 'id': 3560, 'name': 'home'},\n",
       "   {'at': '2015-07-06T13:56:26', 'id': 7292, 'name': 'buy'}]},\n",
       " {'amount_spent': 62.047813371943974,\n",
       "  'page_visits': [{'at': '2015-01-09T16:42:28', 'id': 5328, 'name': 'thanks'},\n",
       "   {'at': '2015-01-09T16:42:49', 'id': 1331, 'name': 'home'},\n",
       "   {'at': '2015-01-09T16:44:45', 'id': 5847, 'name': 'thanks'},\n",
       "   {'at': '2015-01-09T16:45:02', 'id': 5974, 'name': 'home'},\n",
       "   {'at': '2015-01-09T16:47:44', 'id': 1275, 'name': 'thanks'},\n",
       "   {'at': '2015-01-09T16:48:05', 'id': 6995, 'name': 'home'},\n",
       "   {'at': '2015-01-09T16:48:56', 'id': 6052, 'name': 'buy'},\n",
       "   {'at': '2015-01-09T16:49:22', 'id': 6801, 'name': 'home'},\n",
       "   {'at': '2015-01-09T16:52:29', 'id': 9062, 'name': 'thanks'},\n",
       "   {'at': '2015-01-09T16:52:52', 'id': 1068, 'name': 'home'},\n",
       "   {'at': '2015-01-09T16:54:34', 'id': 1296, 'name': 'thanks'}]},\n",
       " {'amount_spent': 62.17697960005862,\n",
       "  'page_visits': [{'at': '2015-05-19T01:18:44', 'id': 8732, 'name': 'thanks'},\n",
       "   {'at': '2015-05-19T01:19:14', 'id': 2335, 'name': 'home'},\n",
       "   {'at': '2015-05-19T01:20:08', 'id': 8628, 'name': 'buy'},\n",
       "   {'at': '2015-05-19T01:20:22', 'id': 6307, 'name': 'home'},\n",
       "   {'at': '2015-05-19T01:22:32', 'id': 2317, 'name': 'thanks'},\n",
       "   {'at': '2015-05-19T01:22:56', 'id': 7008, 'name': 'home'},\n",
       "   {'at': '2015-05-19T01:24:01', 'id': 6003, 'name': 'buy'},\n",
       "   {'at': '2015-05-19T01:27:37', 'id': 2072, 'name': 'thanks'},\n",
       "   {'at': '2015-05-19T01:27:54', 'id': 8035, 'name': 'home'},\n",
       "   {'at': '2015-05-19T01:30:25', 'id': 5277, 'name': 'thanks'},\n",
       "   {'at': '2015-05-19T01:30:47', 'id': 7861, 'name': 'home'},\n",
       "   {'at': '2015-05-19T01:33:53', 'id': 4451, 'name': 'thanks'},\n",
       "   {'at': '2015-05-19T01:34:19', 'id': 5288, 'name': 'home'},\n",
       "   {'at': '2015-05-19T01:35:04', 'id': 6090, 'name': 'buy'}]},\n",
       " {'amount_spent': 61.08415606245103,\n",
       "  'page_visits': [{'at': '2015-03-19T09:23:33', 'id': 8453, 'name': 'buy'},\n",
       "   {'at': '2015-03-19T09:25:01', 'id': 3589, 'name': 'thanks'},\n",
       "   {'at': '2015-03-19T09:25:27', 'id': 1057, 'name': 'home'},\n",
       "   {'at': '2015-03-19T09:26:28', 'id': 1889, 'name': 'buy'},\n",
       "   {'at': '2015-03-19T09:30:03', 'id': 5645, 'name': 'thanks'},\n",
       "   {'at': '2015-03-19T09:30:31', 'id': 6600, 'name': 'home'},\n",
       "   {'at': '2015-03-19T09:31:53', 'id': 7841, 'name': 'thanks'},\n",
       "   {'at': '2015-03-19T09:32:07', 'id': 3398, 'name': 'home'},\n",
       "   {'at': '2015-03-19T09:33:51', 'id': 6918, 'name': 'thanks'},\n",
       "   {'at': '2015-03-19T09:34:14', 'id': 9445, 'name': 'home'},\n",
       "   {'at': '2015-03-19T09:37:48', 'id': 1145, 'name': 'thanks'},\n",
       "   {'at': '2015-03-19T09:38:04', 'id': 1210, 'name': 'home'},\n",
       "   {'at': '2015-03-19T09:40:18', 'id': 2769, 'name': 'thanks'},\n",
       "   {'at': '2015-03-19T09:40:32', 'id': 2112, 'name': 'home'},\n",
       "   {'at': '2015-03-19T09:44:09', 'id': 2875, 'name': 'thanks'},\n",
       "   {'at': '2015-03-19T09:44:24', 'id': 8043, 'name': 'home'},\n",
       "   {'at': '2015-03-19T09:45:35', 'id': 8268, 'name': 'thanks'},\n",
       "   {'at': '2015-03-19T09:45:52', 'id': 2961, 'name': 'home'},\n",
       "   {'at': '2015-03-19T09:47:47', 'id': 1486, 'name': 'thanks'}]},\n",
       " {'amount_spent': 81.5708219907949,\n",
       "  'page_visits': [{'at': '2015-09-08T16:37:02', 'id': 6867, 'name': 'thanks'},\n",
       "   {'at': '2015-09-08T16:37:33', 'id': 9600, 'name': 'home'},\n",
       "   {'at': '2015-09-08T16:38:01', 'id': 3883, 'name': 'buy'},\n",
       "   {'at': '2015-09-08T16:38:18', 'id': 4996, 'name': 'home'},\n",
       "   {'at': '2015-09-08T16:41:42', 'id': 8997, 'name': 'thanks'},\n",
       "   {'at': '2015-09-08T16:42:08', 'id': 6212, 'name': 'home'},\n",
       "   {'at': '2015-09-08T16:42:49', 'id': 2075, 'name': 'buy'},\n",
       "   {'at': '2015-09-08T16:46:08', 'id': 4489, 'name': 'thanks'},\n",
       "   {'at': '2015-09-08T16:46:29', 'id': 7484, 'name': 'home'},\n",
       "   {'at': '2015-09-08T16:47:25', 'id': 1690, 'name': 'thanks'},\n",
       "   {'at': '2015-09-08T16:47:39', 'id': 7639, 'name': 'home'},\n",
       "   {'at': '2015-09-08T16:48:28', 'id': 1373, 'name': 'buy'}]},\n",
       " {'amount_spent': 19.203589059781798,\n",
       "  'page_visits': [{'at': '2015-04-24T16:17:51',\n",
       "    'id': 8220,\n",
       "    'name': 'thanks'}]},\n",
       " {'amount_spent': 0.0,\n",
       "  'page_visits': [{'at': '2015-08-06T17:55:09', 'id': 3878, 'name': 'buy'}]}]"
      ]
     },
     "execution_count": 81,
     "metadata": {},
     "output_type": "execute_result"
    }
   ],
   "source": [
    "data"
   ]
  },
  {
   "cell_type": "code",
   "execution_count": 64,
   "metadata": {
    "collapsed": false
   },
   "outputs": [],
   "source": [
    "visits = [rv for rv in rvs]"
   ]
  },
  {
   "cell_type": "code",
   "execution_count": 65,
   "metadata": {
    "collapsed": false
   },
   "outputs": [
    {
     "data": {
      "text/plain": [
       "[{'at': '2015-10-21T10:55:51', 'id': 4733, 'name': 'home'},\n",
       " {'at': '2015-10-21T10:58:42', 'id': 5354, 'name': 'buy'},\n",
       " {'at': '2015-10-21T10:58:59', 'id': 6080, 'name': 'home'},\n",
       " {'at': '2015-10-21T11:01:30', 'id': 7914, 'name': 'buy'},\n",
       " {'at': '2015-10-21T11:01:40', 'id': 3676, 'name': 'home'},\n",
       " {'at': '2015-10-21T11:04:25', 'id': 2078, 'name': 'buy'},\n",
       " {'at': '2015-10-21T11:04:44', 'id': 4006, 'name': 'home'},\n",
       " {'at': '2015-10-21T11:05:40', 'id': 8017, 'name': 'search'},\n",
       " {'at': '2015-10-21T11:08:37', 'id': 1697, 'name': 'buy'}]"
      ]
     },
     "execution_count": 65,
     "metadata": {},
     "output_type": "execute_result"
    }
   ],
   "source": [
    "visits"
   ]
  },
  {
   "cell_type": "code",
   "execution_count": null,
   "metadata": {
    "collapsed": true
   },
   "outputs": [],
   "source": [
    "class RandomSessionGenerator(object):\n",
    "    \n",
    "    def __init__(self, page_transition_probabilities, start_datetime_generator):\n",
    "        self._start_datetime_generator = start_datetime_generator\n",
    "    \n",
    "    def get_start_time(self):\n",
    "        return self.start_datetime_generator.generate()\n",
    "    \n",
    "    def __next__(self):\n",
    "        while True:\n",
    "            start_time = self.get_start_time()\n",
    "            "
   ]
  }
 ],
 "metadata": {
  "kernelspec": {
   "display_name": "Python 2",
   "language": "python",
   "name": "python2"
  },
  "language_info": {
   "codemirror_mode": {
    "name": "ipython",
    "version": 2
   },
   "file_extension": ".py",
   "mimetype": "text/x-python",
   "name": "python",
   "nbconvert_exporter": "python",
   "pygments_lexer": "ipython2",
   "version": "2.7.10"
  }
 },
 "nbformat": 4,
 "nbformat_minor": 0
}
