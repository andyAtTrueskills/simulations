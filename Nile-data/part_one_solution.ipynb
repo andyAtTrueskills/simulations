{
 "cells": [
  {
   "cell_type": "code",
   "execution_count": 5,
   "metadata": {
    "collapsed": true
   },
   "outputs": [],
   "source": [
    "import pickle"
   ]
  },
  {
   "cell_type": "code",
   "execution_count": 6,
   "metadata": {
    "collapsed": true
   },
   "outputs": [],
   "source": [
    "def calculate_funnel(sessions):\n",
    "    pages = ['home', 'search_results', 'product', 'checkout', 'order_confirmation', 'thanks']\n",
    "    page_stats = {}\n",
    "    for p in pages:\n",
    "        page_stats[p] = {'visits': 0,\n",
    "                        'users_lost': 0}\n",
    "    for s in sessions:\n",
    "        update_stats(page_stats, s)\n",
    "    return page_stats"
   ]
  },
  {
   "cell_type": "code",
   "execution_count": 15,
   "metadata": {
    "collapsed": true
   },
   "outputs": [],
   "source": [
    "def update_stats(stats, session):\n",
    "    visits = session['page_visits']\n",
    "    purchase_made = False\n",
    "    ordered_pages = ['home', 'search_results', 'product', 'checkout', 'order_confirmation', 'thanks']\n",
    "    unique_pages = set([])\n",
    "    for v in visits:\n",
    "        page_name = v['page']\n",
    "        unique_pages.add(page_name)\n",
    "        if page_name == 'thanks':\n",
    "            purchase_made = True\n",
    "        stats[page_name]['visits'] = 1\n",
    "    if not purchase_made:\n",
    "        deepest_page_name = max(unique_pages, key=lambda x: ordered_pages.index(x))\n",
    "        stats[deepest_page_name]['users_lost'] += 1\n",
    "        \n"
   ]
  },
  {
   "cell_type": "code",
   "execution_count": 13,
   "metadata": {
    "collapsed": false
   },
   "outputs": [],
   "source": [
    "with open(\"fake_data.pickle\", 'r') as f:\n",
    "    sessions = pickle.load(f)"
   ]
  },
  {
   "cell_type": "code",
   "execution_count": 16,
   "metadata": {
    "collapsed": false
   },
   "outputs": [],
   "source": [
    "stats = calculate_funnel(sessions)"
   ]
  },
  {
   "cell_type": "code",
   "execution_count": 17,
   "metadata": {
    "collapsed": false
   },
   "outputs": [
    {
     "data": {
      "text/plain": [
       "{'checkout': {'users_lost': 654, 'visits': 1},\n",
       " 'home': {'users_lost': 646, 'visits': 1},\n",
       " 'order_confirmation': {'users_lost': 42, 'visits': 1},\n",
       " 'product': {'users_lost': 861, 'visits': 1},\n",
       " 'search_results': {'users_lost': 232, 'visits': 1},\n",
       " 'thanks': {'users_lost': 0, 'visits': 1}}"
      ]
     },
     "execution_count": 17,
     "metadata": {},
     "output_type": "execute_result"
    }
   ],
   "source": [
    "stats"
   ]
  },
  {
   "cell_type": "code",
   "execution_count": null,
   "metadata": {
    "collapsed": true
   },
   "outputs": [],
   "source": []
  }
 ],
 "metadata": {
  "kernelspec": {
   "display_name": "Python 2",
   "language": "python",
   "name": "python2"
  },
  "language_info": {
   "codemirror_mode": {
    "name": "ipython",
    "version": 2
   },
   "file_extension": ".py",
   "mimetype": "text/x-python",
   "name": "python",
   "nbconvert_exporter": "python",
   "pygments_lexer": "ipython2",
   "version": "2.7.10"
  }
 },
 "nbformat": 4,
 "nbformat_minor": 0
}
